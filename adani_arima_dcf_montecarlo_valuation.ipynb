{
  "nbformat": 4,
  "nbformat_minor": 0,
  "metadata": {
    "colab": {
      "provenance": []
    },
    "kernelspec": {
      "name": "python3",
      "display_name": "Python 3"
    },
    "language_info": {
      "name": "python"
    }
  },
  "cells": [
    {
      "cell_type": "markdown",
      "source": [
        "DATA COLLECTION"
      ],
      "metadata": {
        "id": "EU7Upxp-8QOG"
      }
    },
    {
      "cell_type": "code",
      "execution_count": 6,
      "metadata": {
        "colab": {
          "base_uri": "https://localhost:8080/"
        },
        "id": "7qhSuBrT7sXK",
        "outputId": "0777b0bb-ca75-4220-c98a-c7a325c76db7"
      },
      "outputs": [
        {
          "output_type": "stream",
          "name": "stderr",
          "text": [
            "/tmp/ipython-input-3338507363.py:8: FutureWarning: YF.download() has changed argument auto_adjust default to True\n",
            "  data = yf.download(ticker, start='2018-01-01', end='2025-06-30')\n",
            "[*********************100%***********************]  1 of 1 completed\n"
          ]
        }
      ],
      "source": [
        "import pandas as pd\n",
        "import yfinance as yf\n",
        "import numpy as np\n",
        "\n",
        "\n",
        "# Get stock price data\n",
        "ticker = 'ADANIENT.NS'\n",
        "data = yf.download(ticker, start='2018-01-01', end='2025-06-30')\n",
        "data.to_csv('ADANIENT_stock.csv')\n",
        "\n",
        "# Load financials manually (e.g., from Excel)\n",
        "financials = pd.read_excel(\"/content/adani_ent.xlsx\")"
      ]
    },
    {
      "cell_type": "markdown",
      "source": [
        "REVENUE FORECASTIONG USING ARIMA"
      ],
      "metadata": {
        "id": "_ngPHlRN9izK"
      }
    },
    {
      "cell_type": "code",
      "source": [
        "from statsmodels.tsa.arima.model import ARIMA\n",
        "import matplotlib.pyplot as plt\n",
        "\n",
        "revenue = financials['Revenue']\n",
        "model = ARIMA(revenue, order=(1,1,1))\n",
        "fit = model.fit()\n",
        "forecast = fit.forecast(steps=5)  # Forecast 5 years\n",
        "print(forecast)"
      ],
      "metadata": {
        "colab": {
          "base_uri": "https://localhost:8080/"
        },
        "id": "Zq1Asv9A8pPQ",
        "outputId": "3b90b6ff-026f-4329-a994-56dd4eeb3179"
      },
      "execution_count": 7,
      "outputs": [
        {
          "output_type": "stream",
          "name": "stdout",
          "text": [
            "8     361233.656284\n",
            "9     363053.417441\n",
            "10    363133.963789\n",
            "11    363137.528935\n",
            "12    363137.686735\n",
            "Name: predicted_mean, dtype: float64\n"
          ]
        },
        {
          "output_type": "stream",
          "name": "stderr",
          "text": [
            "/usr/local/lib/python3.11/dist-packages/statsmodels/tsa/statespace/sarimax.py:966: UserWarning: Non-stationary starting autoregressive parameters found. Using zeros as starting parameters.\n",
            "  warn('Non-stationary starting autoregressive parameters'\n",
            "/usr/local/lib/python3.11/dist-packages/statsmodels/tsa/statespace/sarimax.py:978: UserWarning: Non-invertible starting MA parameters found. Using zeros as starting parameters.\n",
            "  warn('Non-invertible starting MA parameters found.'\n"
          ]
        }
      ]
    },
    {
      "cell_type": "markdown",
      "source": [
        "DCF VALUATION"
      ],
      "metadata": {
        "id": "rb1fkeeE94vy"
      }
    },
    {
      "cell_type": "code",
      "source": [
        "import numpy as np\n",
        "\n",
        "# Assume EBITDA margin, tax, capex, WC, and WACC\n",
        "ebitda_margin = 0.25\n",
        "tax_rate = 0.25\n",
        "capex = 100\n",
        "wc_change = 50\n",
        "wacc = 0.10\n",
        "\n",
        "fcf = []\n",
        "for rev in forecast:\n",
        "    ebitda = rev * ebitda_margin\n",
        "    nopat = ebitda * (1 - tax_rate)\n",
        "    fcf.append(nopat - capex - wc_change)\n",
        "\n",
        "# Terminal Value and DCF\n",
        "terminal_value = fcf[-1] * (1 + 0.03) / (wacc - 0.03)\n",
        "dcf_value = sum([fcf[i] / (1 + wacc) ** (i + 1) for i in range(len(fcf))])\n",
        "dcf_total = dcf_value + terminal_value / (1 + wacc) ** len(fcf)\n",
        "print(\"DCF Valuation:\", dcf_total)\n"
      ],
      "metadata": {
        "colab": {
          "base_uri": "https://localhost:8080/"
        },
        "id": "ur9N-0qz8Tro",
        "outputId": "557aaa5d-6eb4-42a3-d4ac-174218d62a53"
      },
      "execution_count": 8,
      "outputs": [
        {
          "output_type": "stream",
          "name": "stdout",
          "text": [
            "DCF Valuation: 877914.0839551099\n"
          ]
        }
      ]
    },
    {
      "cell_type": "markdown",
      "source": [
        "MONTE CARLO SIMULATION"
      ],
      "metadata": {
        "id": "exDHrNTp9-Bk"
      }
    },
    {
      "cell_type": "code",
      "source": [
        "simulations = []\n",
        "for _ in range(1000):\n",
        "    rev_growth = np.random.normal(loc=0.10, scale=0.03)\n",
        "    sim_fcf = []\n",
        "    rev = forecast.iloc[0]\n",
        "    for i in range(5):\n",
        "        rev *= (1 + rev_growth)\n",
        "        ebitda = rev * ebitda_margin\n",
        "        nopat = ebitda * (1 - tax_rate)\n",
        "        sim_fcf.append(nopat - capex - wc_change)\n",
        "    tv = sim_fcf[-1] * (1 + 0.03) / (wacc - 0.03)\n",
        "    npv = sum([sim_fcf[i] / (1 + wacc) ** (i + 1) for i in range(5)])\n",
        "    simulations.append(npv + tv / (1 + wacc) ** 5)\n",
        "\n",
        "plt.hist(simulations, bins=50)\n",
        "plt.title(\"Monte Carlo Valuation Distribution\")\n",
        "plt.show()"
      ],
      "metadata": {
        "colab": {
          "base_uri": "https://localhost:8080/",
          "height": 470
        },
        "id": "iqpp8OjF9uPN",
        "outputId": "a264b3eb-0130-481b-8b38-ca5feef8a854"
      },
      "execution_count": 10,
      "outputs": [
        {
          "output_type": "display_data",
          "data": {
            "text/plain": [
              "<Figure size 640x480 with 1 Axes>"
            ],
            "image/png": "[encoded data removed]"
          },
          "metadata": {}
        }
      ]
    },
    {
      "cell_type": "code",
      "source": [],
      "metadata": {
        "id": "EkKlmv0b-Huu"
      },
      "execution_count": null,
      "outputs": []
    }
  ]
}